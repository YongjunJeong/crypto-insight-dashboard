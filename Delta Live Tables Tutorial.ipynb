{
 "cells": [
  {
   "cell_type": "markdown",
   "metadata": {
    "application/vnd.databricks.v1+cell": {
     "cellMetadata": {},
     "inputWidgets": {},
     "nuid": "70277234-1fa9-4ef9-9efd-88b8f835b81f",
     "showTitle": false,
     "tableResultSettingsMap": {},
     "title": ""
    }
   },
   "source": [
    "1. API 데이터 수집\n",
    "→ 주기적으로 API 호출 → JSON 파일 저장\n",
    "\n",
    "2. Unity Catalog Volume에 저장\n",
    "→ DLT가 읽을 수 있도록 /Volumes/your_catalog/your_schema/your_volume에 저장\n",
    "\n",
    "3. DLT 파이프라인 구성\n",
    "- fng_bronze: 원시 JSON 로딩\n",
    "- fng_silver: 파싱 및 정제\n",
    "\n",
    "(선택) 시각화 및 분석"
   ]
  },
  {
   "cell_type": "code",
   "execution_count": 0,
   "metadata": {
    "application/vnd.databricks.v1+cell": {
     "cellMetadata": {
      "byteLimit": 2048000,
      "rowLimit": 10000
     },
     "inputWidgets": {},
     "nuid": "68ad03e8-6a41-4a57-b9fe-47d8d568faa9",
     "showTitle": false,
     "tableResultSettingsMap": {},
     "title": ""
    }
   },
   "outputs": [],
   "source": [
    "import requests\n",
    "from datetime import datetime\n",
    "\n",
    "url = \"https://api.alternative.me/fng/\"\n",
    "response = requests.get(url)\n",
    "\n",
    "if response.status_code == 200:\n",
    "    data = response.json()['data'][0]\n",
    "    df = spark.createDataFrame([{\n",
    "        \"value\": data['value'],\n",
    "        \"value_classification\": data['value_classification'],\n",
    "        \"timestamp\": int(data['timestamp']),\n",
    "        \"retrieved_at\": datetime.now().isoformat()\n",
    "    }])\n",
    "    \n",
    "    df.write.mode(\"append\").json(\"s3a://databricks-fng-external-bucket/raw/fng/\")\n",
    "    print(\"✅ 저장 완료!\")\n",
    "else:\n",
    "    print(\"❌ API 호출 실패:\", response.status_code)"
   ]
  }
 ],
 "metadata": {
  "application/vnd.databricks.v1+notebook": {
   "computePreferences": null,
   "dashboards": [],
   "environmentMetadata": {
    "base_environment": "",
    "environment_version": "2"
   },
   "inputWidgetPreferences": null,
   "language": "python",
   "notebookMetadata": {
    "mostRecentlyExecutedCommandWithImplicitDF": {
     "commandId": 6248075830777403,
     "dataframes": [
      "_sqldf"
     ]
    },
    "pythonIndentUnit": 4
   },
   "notebookName": "Delta Live Tables Tutorial",
   "widgets": {}
  },
  "language_info": {
   "name": "python"
  }
 },
 "nbformat": 4,
 "nbformat_minor": 0
}
