{
 "cells": [
  {
   "cell_type": "code",
   "execution_count": 0,
   "metadata": {
    "application/vnd.databricks.v1+cell": {
     "cellMetadata": {
      "byteLimit": 2048000,
      "rowLimit": 10000
     },
     "inputWidgets": {},
     "nuid": "484692dd-9214-488d-b014-b264d67169f6",
     "showTitle": false,
     "tableResultSettingsMap": {},
     "title": ""
    }
   },
   "outputs": [],
   "source": [
    "# Databricks Notebook: Transform Bronze (Futures Leaderboard Positions) -> Silver\n",
    "from pyspark.sql.functions import col\n",
    "from delta.tables import DeltaTable\n",
    "\n",
    "CATALOG = \"demo_catalog\"\n",
    "SCHEMA  = \"demo_schema\"\n",
    "BRONZE  = f\"{CATALOG}.{SCHEMA}.bronze_futures_leaderboard_positions\"\n",
    "SILVER  = f\"{CATALOG}.{SCHEMA}.silver_futures_positions\"\n",
    "\n",
    "# =========================\n",
    "# (A) Silver 테이블 생성\n",
    "# =========================\n",
    "spark.sql(f\"\"\"\n",
    "CREATE TABLE IF NOT EXISTS {SILVER} (\n",
    "  uid        STRING,\n",
    "  symbol     STRING,\n",
    "  entryPrice DOUBLE,\n",
    "  markPrice  DOUBLE,\n",
    "  pnl        DOUBLE,\n",
    "  roe        DOUBLE,\n",
    "  amount     DOUBLE,\n",
    "  leverage   DOUBLE,\n",
    "  event_time TIMESTAMP,\n",
    "  ingest_time TIMESTAMP,\n",
    "  unique_key STRING,\n",
    "  dt         DATE\n",
    ") USING DELTA\n",
    "PARTITIONED BY (dt)\n",
    "\"\"\")\n",
    "\n",
    "# =========================\n",
    "# (B) Bronze 로드 & 변환\n",
    "# =========================\n",
    "bronze = spark.table(BRONZE)\n",
    "\n",
    "silver_df = (\n",
    "    bronze\n",
    "      .select(\n",
    "        col(\"uid\"),\n",
    "        col(\"symbol\"),\n",
    "        col(\"entryPrice\"),\n",
    "        col(\"markPrice\"),\n",
    "        col(\"pnl\"),\n",
    "        col(\"roe\"),\n",
    "        col(\"amount\"),\n",
    "        col(\"leverage\"),\n",
    "        col(\"event_time\"),\n",
    "        col(\"ingest_time\"),\n",
    "        col(\"unique_key\"),\n",
    "        col(\"dt\")\n",
    "      )\n",
    "      .dropDuplicates([\"unique_key\"])\n",
    "      .repartition(\"dt\")\n",
    ")\n",
    "\n",
    "# =========================\n",
    "# (C) Delta MERGE\n",
    "# =========================\n",
    "target = DeltaTable.forName(spark, SILVER)\n",
    "(target.alias(\"t\")\n",
    "  .merge(silver_df.alias(\"s\"), \"t.unique_key = s.unique_key AND t.dt = s.dt\")\n",
    "  .whenMatchedUpdateAll()\n",
    "  .whenNotMatchedInsertAll()\n",
    "  .execute())\n",
    "\n",
    "print(f\"Silver transform complete: upserted into {SILVER}\")\n"
   ]
  }
 ],
 "metadata": {
  "application/vnd.databricks.v1+notebook": {
   "computePreferences": null,
   "dashboards": [],
   "environmentMetadata": {
    "base_environment": "",
    "environment_version": "3"
   },
   "inputWidgetPreferences": null,
   "language": "python",
   "notebookMetadata": {
    "pythonIndentUnit": 4
   },
   "notebookName": "02c_transform_silver_leaderboard",
   "widgets": {}
  },
  "language_info": {
   "name": "python"
  }
 },
 "nbformat": 4,
 "nbformat_minor": 0
}
