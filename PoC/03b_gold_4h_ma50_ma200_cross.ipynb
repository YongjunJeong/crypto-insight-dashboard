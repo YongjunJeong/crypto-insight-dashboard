{
 "cells": [
  {
   "cell_type": "code",
   "execution_count": 0,
   "metadata": {
    "application/vnd.databricks.v1+cell": {
     "cellMetadata": {
      "byteLimit": 2048000,
      "rowLimit": 10000
     },
     "inputWidgets": {},
     "nuid": "a1b7ca56-73ec-4373-93a0-5197c05f9f2d",
     "showTitle": false,
     "tableResultSettingsMap": {},
     "title": ""
    }
   },
   "outputs": [],
   "source": [
    "# Databricks Notebook: Silver -> Gold (4h resample for cross signal)\n",
    "from pyspark.sql import functions as F\n",
    "from pyspark.sql.window import Window\n",
    "\n",
    "# ========== 설정 ==========\n",
    "CATALOG = \"demo_catalog\"\n",
    "SCHEMA  = \"demo_schema\"\n",
    "SILVER  = f\"{CATALOG}.{SCHEMA}.silver_charts\"\n",
    "GOLD_4H = f\"{CATALOG}.{SCHEMA}.gold_prices_4h\"\n",
    "DAYS_BACK = 120   # 크로스 신호 안정화를 위해 충분한 히스토리(예: 120일)\n",
    "\n",
    "# ========== 타깃 테이블 ==========\n",
    "spark.sql(f\"\"\"\n",
    "CREATE TABLE IF NOT EXISTS {GOLD_4H} (\n",
    "  symbol       STRING,\n",
    "  bucket_start TIMESTAMP,\n",
    "  bucket_end   TIMESTAMP,\n",
    "  close_4h     DOUBLE,\n",
    "  ma50_4h      DOUBLE,\n",
    "  ma200_4h     DOUBLE,\n",
    "  cross_signal STRING,      -- Golden Cross / Dead Cross / Neutral\n",
    "  dt           DATE\n",
    ") USING DELTA\n",
    "PARTITIONED BY (dt)\n",
    "\"\"\")\n",
    "\n",
    "# ========== 소스 로드(15m → 4h 리샘플) ==========\n",
    "src = (\n",
    "  spark.table(SILVER)\n",
    "       .where(\"open_time IS NOT NULL\")\n",
    "       .where(\"interval = '15m'\")\n",
    "       .where(f\"dt >= date_sub(current_date(), {DAYS_BACK})\")\n",
    "       .select(\"symbol\",\"open_time\",\"close\")\n",
    ")\n",
    "\n",
    "# 4시간 윈도우로 리샘플: 마지막 close를 4h 종가로 사용\n",
    "win = F.window(\"open_time\", \"4 hours\")\n",
    "resampled = (\n",
    "  src.groupBy(\"symbol\", win)\n",
    "     .agg(F.last(\"close\").alias(\"close_4h\"))\n",
    "     .select(\n",
    "        F.col(\"symbol\"),\n",
    "        F.col(\"window.start\").alias(\"bucket_start\"),\n",
    "        F.col(\"window.end\").alias(\"bucket_end\"),\n",
    "        F.col(\"close_4h\"),\n",
    "        F.col(\"window.start\").cast(\"date\").alias(\"dt\")\n",
    "     )\n",
    ")\n",
    "\n",
    "# 이동평균(4h 버킷 기반)\n",
    "w_sym = Window.partitionBy(\"symbol\").orderBy(\"bucket_start\")\n",
    "w50   = w_sym.rowsBetween(-49, 0)\n",
    "w200  = w_sym.rowsBetween(-199, 0)\n",
    "\n",
    "gold_4h_df = (\n",
    "  resampled\n",
    "    .withColumn(\"ma50_4h\",  F.avg(\"close_4h\").over(w50))\n",
    "    .withColumn(\"ma200_4h\", F.avg(\"close_4h\").over(w200))\n",
    "    .withColumn(\n",
    "        \"cross_signal\",\n",
    "        F.when(F.col(\"ma50_4h\") > F.col(\"ma200_4h\"), F.lit(\"Golden Cross\"))\n",
    "         .when(F.col(\"ma50_4h\") < F.col(\"ma200_4h\"), F.lit(\"Dead Cross\"))\n",
    "         .otherwise(F.lit(\"Neutral\"))\n",
    "    )\n",
    ")\n",
    "\n",
    "gold_4h_df.createOrReplaceTempView(\"gold4h_upserts\")\n",
    "spark.sql(f\"\"\"\n",
    "MERGE INTO {GOLD_4H} AS t\n",
    "USING gold4h_upserts AS s\n",
    "ON  t.symbol = s.symbol AND t.bucket_start = s.bucket_start\n",
    "WHEN MATCHED THEN UPDATE SET\n",
    "  t.bucket_end   = s.bucket_end,\n",
    "  t.close_4h     = s.close_4h,\n",
    "  t.ma50_4h      = s.ma50_4h,\n",
    "  t.ma200_4h     = s.ma200_4h,\n",
    "  t.cross_signal = s.cross_signal,\n",
    "  t.dt           = s.dt\n",
    "WHEN NOT MATCHED THEN INSERT *\n",
    "\"\"\")\n",
    "\n",
    "print(f\"[GOLD_4H] upsert complete: {GOLD_4H}\")\n"
   ]
  }
 ],
 "metadata": {
  "application/vnd.databricks.v1+notebook": {
   "computePreferences": null,
   "dashboards": [],
   "environmentMetadata": {
    "base_environment": "",
    "environment_version": "3"
   },
   "inputWidgetPreferences": null,
   "language": "python",
   "notebookMetadata": {
    "pythonIndentUnit": 4
   },
   "notebookName": "03b_gold_4h_ma50_ma200_cross",
   "widgets": {}
  },
  "language_info": {
   "name": "python"
  }
 },
 "nbformat": 4,
 "nbformat_minor": 0
}
