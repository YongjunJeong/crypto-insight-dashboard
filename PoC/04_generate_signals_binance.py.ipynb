{
 "cells": [
  {
   "cell_type": "code",
   "execution_count": 0,
   "metadata": {
    "application/vnd.databricks.v1+cell": {
     "cellMetadata": {
      "byteLimit": 2048000,
      "rowLimit": 10000
     },
     "inputWidgets": {},
     "nuid": "3bbfa31a-c093-4ecf-a3d3-0924f2bb494d",
     "showTitle": false,
     "tableResultSettingsMap": {},
     "title": ""
    }
   },
   "outputs": [],
   "source": [
    "# Databricks Notebook: Gold -> Signals (이동평균/크로스 신호 계산)\n",
    "# 목적: Gold 집계(avg_price)를 기반으로 심볼별 MA(50/200)와 크로스/추세 신호를 계산해 Signals 테이블로 업서트\n",
    "\n",
    "from pyspark.sql import functions as F\n",
    "from pyspark.sql.window import Window\n",
    "from delta.tables import DeltaTable\n",
    "\n",
    "# =========================\n",
    "# (A) 환경/대상 테이블 설정\n",
    "# =========================\n",
    "CATALOG = \"demo_catalog\"\n",
    "SCHEMA  = \"demo_schema\"\n",
    "GOLD    = f\"{CATALOG}.{SCHEMA}.gold_signals\"     # 5분 버킷 등 윈도우 집계 결과\n",
    "SIGNALS = f\"{CATALOG}.{SCHEMA}.signals_charts\"   # 신호 결과 저장 테이블\n",
    "\n",
    "# =========================\n",
    "# (B) 타깃 테이블 생성(없으면)\n",
    "#  - 스키마 명시: 이동평균/신호/상태 컬럼 포함\n",
    "# =========================\n",
    "spark.sql(f\"\"\"\n",
    "CREATE TABLE IF NOT EXISTS {SIGNALS} (\n",
    "  bucket_start TIMESTAMP,  -- 버킷 시작 시각\n",
    "  bucket_end   TIMESTAMP,  -- 버킷 종료 시각\n",
    "  symbol       STRING,     -- 자산 심볼\n",
    "  avg_price    DOUBLE,     -- 버킷 평균 종가\n",
    "  ma_50        DOUBLE,     -- 이동평균(최근 50 버킷)\n",
    "  ma_200       DOUBLE,     -- 이동평균(최근 200 버킷)\n",
    "  cross_signal STRING,     -- Golden Cross / Dead Cross / Neutral\n",
    "  above_ma200  BOOLEAN     -- 현재 avg_price가 MA200 위인지 여부\n",
    ") USING DELTA\n",
    "\"\"\")\n",
    "\n",
    "gold = spark.table(GOLD)\n",
    "\n",
    "# =========================\n",
    "# (C) 윈도우 정의\n",
    "#  - 심볼별 시간 순서로 이동창 구성(rowsBetween)\n",
    "# =========================\n",
    "w50  = Window.partitionBy(\"symbol\").orderBy(\"bucket_start\").rowsBetween(-49, 0)\n",
    "w200 = Window.partitionBy(\"symbol\").orderBy(\"bucket_start\").rowsBetween(-199, 0)\n",
    "\n",
    "# =========================\n",
    "# (D) 신호 계산 DataFrame\n",
    "#  - latest_signal 컬럼은 사용/전파하지 않음\n",
    "#  - (symbol, bucket_start) 단위로 중복 방지\n",
    "# =========================\n",
    "signals_df = (\n",
    "  gold\n",
    "    .select(\"bucket_start\", \"bucket_end\", \"symbol\", \"avg_price\")  # latest_signal 제외\n",
    "    .withColumn(\"ma_50\",  F.avg(\"avg_price\").over(w50))\n",
    "    .withColumn(\"ma_200\", F.avg(\"avg_price\").over(w200))\n",
    "    .withColumn(\n",
    "        \"cross_signal\",\n",
    "        F.when(F.col(\"ma_50\") > F.col(\"ma_200\"), F.lit(\"Golden Cross\"))\n",
    "         .when(F.col(\"ma_50\") < F.col(\"ma_200\"), F.lit(\"Dead Cross\"))\n",
    "         .otherwise(F.lit(\"Neutral\"))\n",
    "    )\n",
    "    .withColumn(\"above_ma200\", F.col(\"avg_price\") > F.col(\"ma_200\"))\n",
    "    .dropDuplicates([\"symbol\", \"bucket_start\"])\n",
    ")\n",
    "\n",
    "# =========================\n",
    "# (E) Delta MERGE (idempotent upsert)\n",
    "#  - 조인 키: (symbol, bucket_start)\n",
    "#  - 존재 시 UPDATE, 없으면 INSERT\n",
    "# =========================\n",
    "target = DeltaTable.forName(spark, SIGNALS)\n",
    "\n",
    "(\n",
    "  target.alias(\"t\")\n",
    "    .merge(\n",
    "      signals_df.alias(\"s\"),\n",
    "      \"t.symbol = s.symbol AND t.bucket_start = s.bucket_start\"\n",
    "    )\n",
    "    .whenMatchedUpdateAll()\n",
    "    .whenNotMatchedInsertAll()\n",
    "    .execute()\n",
    ")\n",
    "\n",
    "print(f\"Signals upserted into {SIGNALS}\")"
   ]
  }
 ],
 "metadata": {
  "application/vnd.databricks.v1+notebook": {
   "computePreferences": null,
   "dashboards": [],
   "environmentMetadata": {
    "base_environment": "",
    "environment_version": "3"
   },
   "inputWidgetPreferences": null,
   "language": "python",
   "notebookMetadata": {
    "mostRecentlyExecutedCommandWithImplicitDF": {
     "commandId": 5441628267261214,
     "dataframes": [
      "_sqldf"
     ]
    },
    "pythonIndentUnit": 4
   },
   "notebookName": "04_generate_signals_binance.py",
   "widgets": {}
  },
  "language_info": {
   "name": "python"
  }
 },
 "nbformat": 4,
 "nbformat_minor": 0
}
