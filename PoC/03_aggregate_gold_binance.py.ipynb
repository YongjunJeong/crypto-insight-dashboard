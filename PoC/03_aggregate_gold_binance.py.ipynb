{
 "cells": [
  {
   "cell_type": "code",
   "execution_count": 0,
   "metadata": {
    "application/vnd.databricks.v1+cell": {
     "cellMetadata": {
      "byteLimit": 2048000,
      "rowLimit": 10000
     },
     "inputWidgets": {},
     "nuid": "9e3bca88-d99e-44d9-8bba-ea29ef1e7dd4",
     "showTitle": false,
     "tableResultSettingsMap": {},
     "title": ""
    }
   },
   "outputs": [],
   "source": [
    "# Databricks Notebook: Silver -> Gold (시간 윈도우 집계)\n",
    "# 목적: Silver 캔들 데이터를 고정 길이 윈도우로 평균 가격을 집계하여 Gold 테이블로 업서트\n",
    "\n",
    "from pyspark.sql.functions import col, window, avg, lit\n",
    "\n",
    "# =========================\n",
    "# (A) 환경/대상 테이블 설정\n",
    "# =========================\n",
    "CATALOG = \"demo_catalog\"\n",
    "SCHEMA  = \"demo_schema\"\n",
    "SILVER  = f\"{CATALOG}.{SCHEMA}.silver_charts\"  # 정형 캔들 데이터\n",
    "GOLD    = f\"{CATALOG}.{SCHEMA}.gold_signals\"   # 윈도우 집계 결과 저장\n",
    "WINDOW_SPEC = \"5 minutes\"                      # 집계 윈도우 크기\n",
    "\n",
    "# =========================\n",
    "# (B) Gold 테이블 생성(없으면)\n",
    "#  - 기존 스키마 유지: window_spec/dt 컬럼 없이 운영\n",
    "# =========================\n",
    "spark.sql(f\"\"\"\n",
    "CREATE TABLE IF NOT EXISTS {GOLD} (\n",
    "  bucket_start  TIMESTAMP,  -- 윈도우 시작 시각\n",
    "  bucket_end    TIMESTAMP,  -- 윈도우 종료 시각\n",
    "  symbol        STRING,     -- 자산 심볼\n",
    "  avg_price     DOUBLE,     -- 윈도우 평균 종가\n",
    "  latest_signal STRING      -- 후속 신호 컬럼(현재 NULL)\n",
    ") USING DELTA\n",
    "\"\"\")\n",
    "\n",
    "# =========================\n",
    "# (C) 원본 로드 및 전처리\n",
    "#  - open_time이 유효한 행만 사용\n",
    "# =========================\n",
    "silver = spark.table(SILVER).where(\"open_time IS NOT NULL\")\n",
    "\n",
    "# =========================\n",
    "# (D) 윈도우 집계 DF 구성\n",
    "#  - window(open_time, WINDOW_SPEC)로 고정 길이 버킷 생성\n",
    "#  - 심볼별 평균 종가 계산 → bucket_start/end와 함께 출력\n",
    "#  - latest_signal은 현재 NULL로 채움(스키마 유지 목적)\n",
    "#  - 동일 (symbol, bucket_start) 중복 방지\n",
    "# =========================\n",
    "agg_df = (\n",
    "    silver\n",
    "      .groupBy(window(col(\"open_time\"), WINDOW_SPEC), col(\"symbol\"))\n",
    "      .agg(avg(col(\"close\")).alias(\"avg_price\"))\n",
    "      .select(\n",
    "          col(\"window.start\").alias(\"bucket_start\"),\n",
    "          col(\"window.end\").alias(\"bucket_end\"),\n",
    "          col(\"symbol\"),\n",
    "          col(\"avg_price\")\n",
    "      )\n",
    "      .withColumn(\"latest_signal\", col(\"avg_price\")*0 - col(\"avg_price\")*0)  # NULL 생성 트릭\n",
    "      .dropDuplicates([\"symbol\", \"bucket_start\"])\n",
    ")\n",
    "\n",
    "# 임시 뷰로 노출해 SQL MERGE에 사용\n",
    "agg_df.createOrReplaceTempView(\"gold_upserts\")\n",
    "\n",
    "# =========================\n",
    "# (E) Delta MERGE (idempotent upsert)\n",
    "#  - 조인 키: (symbol, bucket_start)\n",
    "#  - 존재 시 UPDATE, 없으면 INSERT\n",
    "# =========================\n",
    "spark.sql(f\"\"\"\n",
    "MERGE INTO {GOLD} AS t\n",
    "USING gold_upserts AS s\n",
    "ON  t.symbol       = s.symbol\n",
    "AND t.bucket_start = s.bucket_start\n",
    "WHEN MATCHED THEN UPDATE SET\n",
    "  t.bucket_end     = s.bucket_end,\n",
    "  t.avg_price      = s.avg_price,\n",
    "  t.latest_signal  = s.latest_signal\n",
    "WHEN NOT MATCHED THEN INSERT *\n",
    "\"\"\")\n",
    "\n",
    "print(f\"Gold aggregate complete (window={WINDOW_SPEC})\")"
   ]
  }
 ],
 "metadata": {
  "application/vnd.databricks.v1+notebook": {
   "computePreferences": null,
   "dashboards": [],
   "environmentMetadata": {
    "base_environment": "",
    "environment_version": "3"
   },
   "inputWidgetPreferences": null,
   "language": "python",
   "notebookMetadata": {
    "mostRecentlyExecutedCommandWithImplicitDF": {
     "commandId": 7595998494622694,
     "dataframes": [
      "_sqldf"
     ]
    },
    "pythonIndentUnit": 4
   },
   "notebookName": "03_aggregate_gold_binance.py",
   "widgets": {
    "CATALOG": {
     "currentValue": "demo_catalog",
     "nuid": "d1ae86ec-ed10-4051-bab5-fc53a3087f36",
     "typedWidgetInfo": {
      "autoCreated": false,
      "defaultValue": "demo_catalog",
      "label": null,
      "name": "CATALOG",
      "options": {
       "widgetDisplayType": "Text",
       "validationRegex": null
      },
      "parameterDataType": "String"
     },
     "widgetInfo": {
      "widgetType": "text",
      "defaultValue": "demo_catalog",
      "label": null,
      "name": "CATALOG",
      "options": {
       "widgetType": "text",
       "autoCreated": false,
       "validationRegex": null
      }
     }
    },
    "LOOKBACK_HOURS": {
     "currentValue": "48",
     "nuid": "71b54f48-4ad5-478a-8b11-5faeab735cc7",
     "typedWidgetInfo": {
      "autoCreated": false,
      "defaultValue": "48",
      "label": null,
      "name": "LOOKBACK_HOURS",
      "options": {
       "widgetDisplayType": "Text",
       "validationRegex": null
      },
      "parameterDataType": "String"
     },
     "widgetInfo": {
      "widgetType": "text",
      "defaultValue": "48",
      "label": null,
      "name": "LOOKBACK_HOURS",
      "options": {
       "widgetType": "text",
       "autoCreated": false,
       "validationRegex": null
      }
     }
    },
    "SCHEMA": {
     "currentValue": "demo_schema",
     "nuid": "9172287f-31d1-4c19-baf3-04ec3194dded",
     "typedWidgetInfo": {
      "autoCreated": false,
      "defaultValue": "demo_schema",
      "label": null,
      "name": "SCHEMA",
      "options": {
       "widgetDisplayType": "Text",
       "validationRegex": null
      },
      "parameterDataType": "String"
     },
     "widgetInfo": {
      "widgetType": "text",
      "defaultValue": "demo_schema",
      "label": null,
      "name": "SCHEMA",
      "options": {
       "widgetType": "text",
       "autoCreated": false,
       "validationRegex": null
      }
     }
    },
    "WINDOW": {
     "currentValue": "1 hour",
     "nuid": "9a3ab967-15d7-4692-859d-93357532e002",
     "typedWidgetInfo": {
      "autoCreated": false,
      "defaultValue": "1 hour",
      "label": null,
      "name": "WINDOW",
      "options": {
       "widgetDisplayType": "Dropdown",
       "choices": [
        "1 hour",
        "5 minutes",
        "15 minutes",
        "30 minutes",
        "4 hours",
        "1 day"
       ],
       "fixedDomain": true,
       "multiselect": false
      },
      "parameterDataType": "String"
     },
     "widgetInfo": {
      "widgetType": "dropdown",
      "defaultValue": "1 hour",
      "label": null,
      "name": "WINDOW",
      "options": {
       "widgetType": "dropdown",
       "autoCreated": false,
       "choices": [
        "1 hour",
        "5 minutes",
        "15 minutes",
        "30 minutes",
        "4 hours",
        "1 day"
       ]
      }
     }
    }
   }
  },
  "language_info": {
   "name": "python"
  }
 },
 "nbformat": 4,
 "nbformat_minor": 0
}
