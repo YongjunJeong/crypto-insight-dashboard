{
 "cells": [
  {
   "cell_type": "code",
   "execution_count": 0,
   "metadata": {
    "application/vnd.databricks.v1+cell": {
     "cellMetadata": {
      "byteLimit": 2048000,
      "rowLimit": 10000
     },
     "inputWidgets": {},
     "nuid": "cbda04ec-36df-4bca-ba32-dfb7a11e6086",
     "showTitle": false,
     "tableResultSettingsMap": {},
     "title": ""
    }
   },
   "outputs": [],
   "source": [
    "# Databricks Notebook: Transform Bronze (Fear & Greed) -> Silver\n",
    "# Binance용과 동일한 패턴: 최근 N일 증분 + unique_key 기준 MERGE\n",
    "\n",
    "from pyspark.sql.functions import col\n",
    "from delta.tables import DeltaTable\n",
    "\n",
    "# ===== (0) 선택: 최근 N일만 증분 처리 =====\n",
    "DAYS_BACK = 60  # FNG는 일 1회 수준이라 넉넉히\n",
    "\n",
    "# =========================\n",
    "# (A) 환경/대상 테이블 설정\n",
    "# =========================\n",
    "CATALOG = \"demo_catalog\"\n",
    "SCHEMA  = \"demo_schema\"\n",
    "BRONZE  = f\"{CATALOG}.{SCHEMA}.bronze_fear_greed\"\n",
    "SILVER  = f\"{CATALOG}.{SCHEMA}.silver_fear_greed\"\n",
    "\n",
    "# =========================\n",
    "# (B) Silver 테이블 생성(없으면)\n",
    "# =========================\n",
    "spark.sql(f\"\"\"\n",
    "CREATE TABLE IF NOT EXISTS {SILVER} (\n",
    "  event_time           TIMESTAMP,\n",
    "  index_value          INT,\n",
    "  value_classification STRING,\n",
    "  time_until_update    STRING,\n",
    "  unique_key           STRING,   -- \"fear_greed|<unix_ts>\"\n",
    "  dt                   DATE\n",
    ") USING DELTA\n",
    "PARTITIONED BY (dt)\n",
    "\"\"\")\n",
    "\n",
    "# =========================\n",
    "# (C) Bronze 로드(증분 범위 선택) -> 정형 DF\n",
    "# =========================\n",
    "bronze = spark.table(BRONZE)\n",
    "if DAYS_BACK is not None:\n",
    "    bronze = bronze.where(f\"dt >= date_sub(current_date(), {DAYS_BACK})\")\n",
    "\n",
    "silver_df = (\n",
    "    bronze\n",
    "      .select(\n",
    "          col(\"event_time\").alias(\"event_time\"),\n",
    "          col(\"index_value\").cast(\"int\").alias(\"index_value\"),\n",
    "          col(\"value_classification\").alias(\"value_classification\"),\n",
    "          col(\"time_until_update\").alias(\"time_until_update\"),\n",
    "          col(\"unique_key\").alias(\"unique_key\"),\n",
    "          col(\"dt\").cast(\"date\").alias(\"dt\"),\n",
    "      )\n",
    "      .dropDuplicates([\"unique_key\"])\n",
    "      .repartition(\"dt\")  # 선택: 파티션별 MERGE 최적화\n",
    ")\n",
    "\n",
    "# =========================\n",
    "# (D) Delta MERGE (idempotent upsert)\n",
    "# =========================\n",
    "target = DeltaTable.forName(spark, SILVER)\n",
    "\n",
    "(target.alias(\"t\")\n",
    "  .merge(\n",
    "    silver_df.alias(\"s\"),\n",
    "    \"t.unique_key = s.unique_key AND t.dt = s.dt\"\n",
    "  )\n",
    "  .whenMatchedUpdate(set={\n",
    "      \"event_time\":           \"s.event_time\",\n",
    "      \"index_value\":          \"s.index_value\",\n",
    "      \"value_classification\": \"s.value_classification\",\n",
    "      \"time_until_update\":    \"s.time_until_update\",\n",
    "      \"dt\":                   \"s.dt\"\n",
    "  })\n",
    "  .whenNotMatchedInsertAll()\n",
    "  .execute())\n",
    "\n",
    "print(f\"Silver FNG transform complete: upserted into {SILVER}\")\n"
   ]
  }
 ],
 "metadata": {
  "application/vnd.databricks.v1+notebook": {
   "computePreferences": null,
   "dashboards": [],
   "environmentMetadata": {
    "base_environment": "",
    "environment_version": "3"
   },
   "inputWidgetPreferences": null,
   "language": "python",
   "notebookMetadata": {
    "pythonIndentUnit": 4
   },
   "notebookName": "02b_transform_silver_fear_greed.py",
   "widgets": {}
  },
  "language_info": {
   "name": "python"
  }
 },
 "nbformat": 4,
 "nbformat_minor": 0
}
