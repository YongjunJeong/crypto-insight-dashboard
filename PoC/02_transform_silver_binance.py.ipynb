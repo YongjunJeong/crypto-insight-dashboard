{
 "cells": [
  {
   "cell_type": "code",
   "execution_count": 0,
   "metadata": {
    "application/vnd.databricks.v1+cell": {
     "cellMetadata": {
      "byteLimit": 2048000,
      "rowLimit": 10000
     },
     "inputWidgets": {},
     "nuid": "7ff950b7-e9b1-4509-b372-8df5a5b476f3",
     "showTitle": false,
     "tableResultSettingsMap": {},
     "title": ""
    }
   },
   "outputs": [],
   "source": [
    "# Databricks Notebook: Transform Bronze -> Silver\n",
    "# 목적: Bronze 테이블(원본 JSON 배열 중심)을 파싱해 정형 컬럼 스키마의 Silver 테이블로 업서트(idempotent)\n",
    "\n",
    "from pyspark.sql.functions import col, from_json, split\n",
    "from pyspark.sql.types import ArrayType, StringType\n",
    "from delta.tables import DeltaTable\n",
    "\n",
    "# =========================\n",
    "# (A) 환경/대상 테이블 설정\n",
    "# =========================\n",
    "CATALOG = \"demo_catalog\"\n",
    "SCHEMA  = \"demo_schema\"\n",
    "BRONZE  = f\"{CATALOG}.{SCHEMA}.bronze_charts\"  # 원본 JSON(row당 kline 배열) 저장\n",
    "SILVER  = f\"{CATALOG}.{SCHEMA}.silver_charts\"  # 정형 스키마로 파싱/정제 결과 저장\n",
    "\n",
    "# =========================\n",
    "# (B) Silver 테이블 생성(없으면)\n",
    "#  - Bronze의 raw_json을 파싱해 필요한 컬럼만 보유\n",
    "#  - dt 파티션으로 읽기/쓰기 범위를 줄여 성능 최적화\n",
    "# =========================\n",
    "spark.sql(f\"\"\"\n",
    "CREATE TABLE IF NOT EXISTS {SILVER} (\n",
    "  symbol       STRING,\n",
    "  interval     STRING,\n",
    "  open_time    TIMESTAMP,  -- 캔들 시작 시각(UTC)\n",
    "  open         DOUBLE,\n",
    "  high         DOUBLE,\n",
    "  low          DOUBLE,\n",
    "  close        DOUBLE,\n",
    "  volume       DOUBLE,\n",
    "  unique_key   STRING,     -- \"symbol|interval|open_ms\"\n",
    "  event_time   TIMESTAMP,  -- Bronze 이벤트 시각(= open_time와 동일 의미로 사용 가능)\n",
    "  dt           DATE        -- 파티션 키(= event_time의 날짜)\n",
    ") USING DELTA\n",
    "PARTITIONED BY (dt)\n",
    "\"\"\")\n",
    "\n",
    "# =========================\n",
    "# (C) Bronze 로드 + 파싱 준비\n",
    "#  - Binance kline은 JSON 배열 형태이므로 from_json(ArrayType)으로 파싱\n",
    "#  - unique_key는 \"symbol|interval|open_ms\" 포맷 → split로 안전 분리\n",
    "# =========================\n",
    "bronze = spark.table(BRONZE)\n",
    "\n",
    "# kline 배열: [0]=open_time(ms), [1]=open, [2]=high, [3]=low, [4]=close, [5]=volume, [6]=close_time(ms), ...\n",
    "arr = from_json(col(\"raw_json\"), ArrayType(StringType()))\n",
    "\n",
    "# unique_key 분해: \"symbol|interval|open_ms\"\n",
    "uk = split(col(\"unique_key\"), \"\\\\|\")\n",
    "\n",
    "# =========================\n",
    "# (D) Bronze -> Silver 변환 DF 구성\n",
    "#  - 필요한 컬럼만 선택하고 타입 캐스팅\n",
    "#  - dt는 event_time의 날짜를 그대로 사용(파티션 키)\n",
    "#  - 배치 내부 중복 제거(dropDuplicates)로 idempotent 보장 강화\n",
    "# =========================\n",
    "silver_df = (\n",
    "  bronze\n",
    "    .withColumn(\"symbol\",     uk.getItem(0))\n",
    "    .withColumn(\"interval\",   uk.getItem(1))\n",
    "    .withColumn(\"open_time\",  (arr.getItem(0).cast(\"long\")/1000).cast(\"timestamp\"))\n",
    "    .withColumn(\"open\",       arr.getItem(1).cast(\"double\"))\n",
    "    .withColumn(\"high\",       arr.getItem(2).cast(\"double\"))\n",
    "    .withColumn(\"low\",        arr.getItem(3).cast(\"double\"))\n",
    "    .withColumn(\"close\",      arr.getItem(4).cast(\"double\"))\n",
    "    .withColumn(\"volume\",     arr.getItem(5).cast(\"double\"))\n",
    "    .withColumn(\"dt\",         col(\"event_time\").cast(\"date\"))  # 파티션 키(= 이벤트 날짜)\n",
    "    .select(\n",
    "        \"symbol\",\"interval\",\"open_time\",\"open\",\"high\",\"low\",\"close\",\"volume\",\n",
    "        \"unique_key\",\"event_time\",\"dt\"\n",
    "    )\n",
    "    .dropDuplicates([\"unique_key\"])  # 동일 배치 내 중복 방지\n",
    ")\n",
    "\n",
    "# =========================\n",
    "# (E) Delta MERGE (idempotent upsert)\n",
    "#  - 조인 조건에 dt 포함 → 파티션 프루닝으로 대상 최소화\n",
    "#  - 동일 unique_key 존재 시 UPDATE, 없으면 INSERT\n",
    "# =========================\n",
    "target = DeltaTable.forName(spark, SILVER)\n",
    "\n",
    "(\n",
    "  target.alias(\"t\")\n",
    "    .merge(\n",
    "      silver_df.alias(\"s\"),\n",
    "      \"t.unique_key = s.unique_key AND t.dt = s.dt\"\n",
    "    )\n",
    "    .whenMatchedUpdate(set={\n",
    "        \"symbol\":     \"s.symbol\",\n",
    "        \"interval\":   \"s.interval\",\n",
    "        \"open_time\":  \"s.open_time\",\n",
    "        \"open\":       \"s.open\",\n",
    "        \"high\":       \"s.high\",\n",
    "        \"low\":        \"s.low\",\n",
    "        \"close\":      \"s.close\",\n",
    "        \"volume\":     \"s.volume\",\n",
    "        \"event_time\": \"s.event_time\",\n",
    "        \"dt\":         \"s.dt\"\n",
    "    })\n",
    "    .whenNotMatchedInsertAll()\n",
    "    .execute()\n",
    ")\n",
    "\n",
    "print(f\"Silver transform complete: upserted into {SILVER}\")"
   ]
  }
 ],
 "metadata": {
  "application/vnd.databricks.v1+notebook": {
   "computePreferences": null,
   "dashboards": [],
   "environmentMetadata": {
    "base_environment": "",
    "environment_version": "3"
   },
   "inputWidgetPreferences": null,
   "language": "python",
   "notebookMetadata": {
    "mostRecentlyExecutedCommandWithImplicitDF": {
     "commandId": 7595998494622695,
     "dataframes": [
      "_sqldf"
     ]
    },
    "pythonIndentUnit": 4,
    "widgetLayout": []
   },
   "notebookName": "02_transform_silver_binance.py",
   "widgets": {
    "CATALOG": {
     "currentValue": "demo_catalog",
     "nuid": "08fc5d53-d024-4fc0-b0ca-0d57c1a807c2",
     "typedWidgetInfo": {
      "autoCreated": false,
      "defaultValue": "demo_catalog",
      "label": null,
      "name": "CATALOG",
      "options": {
       "widgetDisplayType": "Text",
       "validationRegex": null
      },
      "parameterDataType": "String"
     },
     "widgetInfo": {
      "widgetType": "text",
      "defaultValue": "demo_catalog",
      "label": null,
      "name": "CATALOG",
      "options": {
       "widgetType": "text",
       "autoCreated": null,
       "validationRegex": null
      }
     }
    },
    "SCHEMA": {
     "currentValue": "demo_schema",
     "nuid": "98c2b553-3ba8-46eb-bf7d-ee2a54e150c3",
     "typedWidgetInfo": {
      "autoCreated": false,
      "defaultValue": "demo_schema",
      "label": "",
      "name": "SCHEMA",
      "options": {
       "widgetDisplayType": "Text",
       "validationRegex": null
      },
      "parameterDataType": "String"
     },
     "widgetInfo": {
      "widgetType": "text",
      "defaultValue": "demo_schema",
      "label": "",
      "name": "SCHEMA",
      "options": {
       "widgetType": "text",
       "autoCreated": false,
       "validationRegex": null
      }
     }
    }
   }
  },
  "language_info": {
   "name": "python"
  }
 },
 "nbformat": 4,
 "nbformat_minor": 0
}
