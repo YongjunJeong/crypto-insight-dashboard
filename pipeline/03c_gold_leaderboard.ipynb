{
 "cells": [
  {
   "cell_type": "code",
   "execution_count": 0,
   "metadata": {
    "application/vnd.databricks.v1+cell": {
     "cellMetadata": {
      "byteLimit": 2048000,
      "rowLimit": 10000
     },
     "inputWidgets": {},
     "nuid": "439139f8-2bc2-4272-8157-c634e3120af8",
     "showTitle": false,
     "tableResultSettingsMap": {},
     "title": ""
    }
   },
   "outputs": [],
   "source": [
    "# Databricks Notebook: Gold Summary for Futures Positions Dashboard\n",
    "from pyspark.sql import functions as F\n",
    "from pyspark.sql.window import Window\n",
    "\n",
    "CATALOG = \"demo_catalog\"\n",
    "SCHEMA  = \"demo_schema\"\n",
    "SILVER  = f\"{CATALOG}.{SCHEMA}.silver_futures_positions\"\n",
    "GOLD    = f\"{CATALOG}.{SCHEMA}.gold_futures_positions_summary\"\n",
    "\n",
    "# =========================\n",
    "# (A) Gold 테이블 생성\n",
    "# =========================\n",
    "spark.sql(f\"\"\"\n",
    "CREATE TABLE IF NOT EXISTS {GOLD} (\n",
    "  uid        STRING,\n",
    "  symbol     STRING,\n",
    "  entryPrice DOUBLE,\n",
    "  markPrice  DOUBLE,\n",
    "  pnl        DOUBLE,\n",
    "  roe        DOUBLE,\n",
    "  amount     DOUBLE,\n",
    "  leverage   DOUBLE,\n",
    "  event_time TIMESTAMP,\n",
    "  updated_at TIMESTAMP\n",
    ") USING DELTA\n",
    "\"\"\")\n",
    "\n",
    "# =========================\n",
    "# (B) 최신 포지션만 추출\n",
    "# =========================\n",
    "silver = spark.table(SILVER)\n",
    "\n",
    "w = Window.partitionBy(\"uid\",\"symbol\").orderBy(F.col(\"event_time\").desc())\n",
    "\n",
    "latest_positions = (\n",
    "    silver\n",
    "      .withColumn(\"rn\", F.row_number().over(w))\n",
    "      .where(\"rn = 1\")\n",
    "      .drop(\"rn\")\n",
    "      .withColumn(\"updated_at\", F.current_timestamp())\n",
    ")\n",
    "\n",
    "# =========================\n",
    "# (C) 저장 (overwrite)\n",
    "# =========================\n",
    "latest_positions.write.mode(\"overwrite\").option(\"mergeSchema\", \"true\").saveAsTable(GOLD)\n",
    "\n",
    "print(f\"[SUMMARY] refreshed: {GOLD}\")\n"
   ]
  }
 ],
 "metadata": {
  "application/vnd.databricks.v1+notebook": {
   "computePreferences": null,
   "dashboards": [],
   "environmentMetadata": {
    "base_environment": "",
    "environment_version": "3"
   },
   "inputWidgetPreferences": null,
   "language": "python",
   "notebookMetadata": {
    "pythonIndentUnit": 4
   },
   "notebookName": "03c_gold_leaderboard",
   "widgets": {}
  },
  "language_info": {
   "name": "python"
  }
 },
 "nbformat": 4,
 "nbformat_minor": 0
}
