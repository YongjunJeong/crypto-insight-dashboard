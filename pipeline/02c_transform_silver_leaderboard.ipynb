{
 "cells": [
  {
   "cell_type": "code",
   "execution_count": 0,
   "metadata": {
    "application/vnd.databricks.v1+cell": {
     "cellMetadata": {
      "byteLimit": 2048000,
      "rowLimit": 10000
     },
     "inputWidgets": {},
     "nuid": "484692dd-9214-488d-b014-b264d67169f6",
     "showTitle": false,
     "tableResultSettingsMap": {},
     "title": ""
    }
   },
   "outputs": [],
   "source": [
    "# Databricks Notebook: Transform Bronze (Futures Leaderboard Positions) -> Silver (with meta cols)\n",
    "from pyspark.sql.functions import col\n",
    "from delta.tables import DeltaTable\n",
    "\n",
    "CATALOG = \"demo_catalog\"\n",
    "SCHEMA  = \"demo_schema\"\n",
    "BRONZE  = f\"{CATALOG}.{SCHEMA}.bronze_futures_leaderboard_positions\"\n",
    "SILVER  = f\"{CATALOG}.{SCHEMA}.silver_futures_positions\"\n",
    "\n",
    "# =================================\n",
    "# (A) Silver 테이블 생성(메타 컬럼 포함)\n",
    "# =================================\n",
    "spark.sql(f\"\"\"\n",
    "CREATE TABLE IF NOT EXISTS {SILVER} (\n",
    "  source        STRING,\n",
    "  endpoint_name STRING,\n",
    "  account_label STRING,\n",
    "  uid        STRING,\n",
    "  symbol     STRING,\n",
    "  unique_key STRING,\n",
    "  entryPrice DOUBLE,\n",
    "  markPrice  DOUBLE,\n",
    "  pnl        DOUBLE,\n",
    "  roe        DOUBLE,\n",
    "  amount     DOUBLE,\n",
    "  leverage   DOUBLE,\n",
    "  yellow     BOOLEAN,\n",
    "  tradeBefore BOOLEAN,\n",
    "  update_ts  BIGINT,\n",
    "  event_time  TIMESTAMP,\n",
    "  ingest_time TIMESTAMP,\n",
    "  dt          DATE\n",
    ") USING DELTA\n",
    "PARTITIONED BY (dt)\n",
    "\"\"\")\n",
    "\n",
    "# =================================\n",
    "# (B) Bronze 로드 & 컬럼 셀렉트/정제\n",
    "# =================================\n",
    "bronze = spark.table(BRONZE)\n",
    "\n",
    "silver_df = (\n",
    "    bronze.select(\n",
    "        col(\"source\"),\n",
    "        col(\"endpoint_name\"),\n",
    "        col(\"account_label\"),\n",
    "        col(\"uid\"),\n",
    "        col(\"symbol\"),\n",
    "        col(\"unique_key\"),\n",
    "        col(\"entryPrice\").cast(\"double\"),\n",
    "        col(\"markPrice\").cast(\"double\"),\n",
    "        col(\"pnl\").cast(\"double\"),\n",
    "        col(\"roe\").cast(\"double\"),\n",
    "        col(\"amount\").cast(\"double\"),\n",
    "        col(\"leverage\").cast(\"double\"),\n",
    "        col(\"yellow\").cast(\"boolean\"),\n",
    "        col(\"tradeBefore\").cast(\"boolean\"),\n",
    "        col(\"update_ts\").cast(\"long\"),\n",
    "        col(\"event_time\").cast(\"timestamp\"),\n",
    "        col(\"ingest_time\").cast(\"timestamp\"),\n",
    "        col(\"dt\").cast(\"date\")\n",
    "    )\n",
    "    .dropDuplicates([\"unique_key\"])   # 멱등/중복 제거\n",
    "    .repartition(\"dt\", \"symbol\")      # 파티션/프루닝 효율\n",
    ")\n",
    "\n",
    "# =================================\n",
    "# (C) Delta MERGE (upsert)\n",
    "#   - 동일 dt 파티션 내 unique_key 기준으로 업서트\n",
    "# =================================\n",
    "target = DeltaTable.forName(spark, SILVER)\n",
    "\n",
    "(target.alias(\"t\")\n",
    "  .merge(\n",
    "      silver_df.alias(\"s\"),\n",
    "      \"t.unique_key = s.unique_key AND t.dt = s.dt\"\n",
    "  )\n",
    "  .whenMatchedUpdateAll()\n",
    "  .whenNotMatchedInsertAll()\n",
    "  .execute()\n",
    ")\n",
    "\n",
    "print(f\"Silver transform complete: upserted into {SILVER}\")\n"
   ]
  }
 ],
 "metadata": {
  "application/vnd.databricks.v1+notebook": {
   "computePreferences": null,
   "dashboards": [],
   "environmentMetadata": {
    "base_environment": "",
    "environment_version": "3"
   },
   "inputWidgetPreferences": null,
   "language": "python",
   "notebookMetadata": {
    "pythonIndentUnit": 4
   },
   "notebookName": "02c_transform_silver_leaderboard",
   "widgets": {}
  },
  "language_info": {
   "name": "python"
  }
 },
 "nbformat": 4,
 "nbformat_minor": 0
}
