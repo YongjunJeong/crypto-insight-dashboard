{
 "cells": [
  {
   "cell_type": "code",
   "execution_count": 0,
   "metadata": {
    "application/vnd.databricks.v1+cell": {
     "cellMetadata": {
      "byteLimit": 2048000,
      "rowLimit": 10000
     },
     "inputWidgets": {},
     "nuid": "7ff950b7-e9b1-4509-b372-8df5a5b476f3",
     "showTitle": false,
     "tableResultSettingsMap": {},
     "title": ""
    }
   },
   "outputs": [],
   "source": [
    "# Databricks Notebook: Transform Bronze (Binance) -> Silver (improved, 4h-focused)\n",
    "from pyspark.sql.functions import col, from_json, split, coalesce, to_date\n",
    "from pyspark.sql.types import ArrayType, StringType\n",
    "from delta.tables import DeltaTable\n",
    "\n",
    "spark.sql(\"SET spark.sql.session.timeZone=UTC\")  # 경계 정합\n",
    "\n",
    "DAYS_BACK = 14\n",
    "CATALOG = \"demo_catalog\"\n",
    "SCHEMA  = \"demo_schema\"\n",
    "BRONZE  = f\"{CATALOG}.{SCHEMA}.bronze_charts\"\n",
    "SILVER  = f\"{CATALOG}.{SCHEMA}.silver_charts\"\n",
    "\n",
    "spark.sql(f\"\"\"\n",
    "CREATE TABLE IF NOT EXISTS {SILVER} (\n",
    "  symbol       STRING,\n",
    "  interval     STRING,\n",
    "  open_time    TIMESTAMP,\n",
    "  open         DOUBLE,\n",
    "  high         DOUBLE,\n",
    "  low          DOUBLE,\n",
    "  close        DOUBLE,\n",
    "  volume       DOUBLE,\n",
    "  unique_key   STRING,\n",
    "  event_time   TIMESTAMP,\n",
    "  dt           DATE\n",
    ") USING DELTA\n",
    "PARTITIONED BY (dt)\n",
    "\"\"\")\n",
    "\n",
    "bronze = spark.table(BRONZE)\n",
    "if DAYS_BACK is not None:\n",
    "    bronze = bronze.where(f\"dt >= date_sub(current_date(), {DAYS_BACK})\")\n",
    "\n",
    "# 4시간봉만 사용한다면 초기에 필터\n",
    "bronze = bronze.where(\"interval = '4h' OR unique_key LIKE '%|4h|%'\")\n",
    "\n",
    "arr = from_json(col(\"raw_json\"), ArrayType(StringType()))\n",
    "uk  = split(col(\"unique_key\"), \"\\\\|\")\n",
    "\n",
    "silver_df = (\n",
    "    bronze\n",
    "      # 브론즈에 컬럼이 있으면 우선 사용, 없으면 uk에서 보완\n",
    "      .withColumn(\"symbol_eff\",   coalesce(col(\"symbol\"),   uk.getItem(0)))\n",
    "      .withColumn(\"interval_eff\", coalesce(col(\"interval\"), uk.getItem(1)))\n",
    "      .withColumn(\"open_time\",  (arr.getItem(0).cast(\"long\")/1000).cast(\"timestamp\"))\n",
    "      .withColumn(\"open\",       arr.getItem(1).cast(\"double\"))\n",
    "      .withColumn(\"high\",       arr.getItem(2).cast(\"double\"))\n",
    "      .withColumn(\"low\",        arr.getItem(3).cast(\"double\"))\n",
    "      .withColumn(\"close\",      arr.getItem(4).cast(\"double\"))\n",
    "      .withColumn(\"volume\",     arr.getItem(5).cast(\"double\"))\n",
    "      .withColumn(\"dt\",         to_date(col(\"open_time\")))             # open_time 기준으로 통일\n",
    "      .selectExpr(\n",
    "          \"symbol_eff as symbol\",\n",
    "          \"interval_eff as interval\",\n",
    "          \"open_time\",\"open\",\"high\",\"low\",\"close\",\"volume\",\n",
    "          \"unique_key\",\"event_time\",\"dt\"\n",
    "      )\n",
    "      .dropDuplicates([\"unique_key\"])\n",
    "      .repartition(\"dt\")\n",
    ")\n",
    "\n",
    "target = DeltaTable.forName(spark, SILVER)\n",
    "(target.alias(\"t\")\n",
    "  .merge(\n",
    "    silver_df.alias(\"s\"),\n",
    "    \"t.unique_key = s.unique_key AND t.dt = s.dt\"\n",
    "  )\n",
    "  .whenMatchedUpdate(set={\n",
    "      \"symbol\":     \"s.symbol\",\n",
    "      \"interval\":   \"s.interval\",\n",
    "      \"open_time\":  \"s.open_time\",\n",
    "      \"open\":       \"s.open\",\n",
    "      \"high\":       \"s.high\",\n",
    "      \"low\":        \"s.low\",\n",
    "      \"close\":      \"s.close\",\n",
    "      \"volume\":     \"s.volume\",\n",
    "      \"event_time\": \"s.event_time\",\n",
    "      \"dt\":         \"s.dt\"\n",
    "  })\n",
    "  .whenNotMatchedInsertAll()\n",
    "  .execute())\n",
    "\n",
    "print(f\"[SILVER] upsert complete: {SILVER}\")\n"
   ]
  }
 ],
 "metadata": {
  "application/vnd.databricks.v1+notebook": {
   "computePreferences": null,
   "dashboards": [],
   "environmentMetadata": {
    "base_environment": "",
    "environment_version": "3"
   },
   "inputWidgetPreferences": null,
   "language": "python",
   "notebookMetadata": {
    "mostRecentlyExecutedCommandWithImplicitDF": {
     "commandId": 7595998494622695,
     "dataframes": [
      "_sqldf"
     ]
    },
    "pythonIndentUnit": 4,
    "widgetLayout": []
   },
   "notebookName": "02a_transform_silver_binance.py",
   "widgets": {}
  },
  "language_info": {
   "name": "python"
  }
 },
 "nbformat": 4,
 "nbformat_minor": 0
}
