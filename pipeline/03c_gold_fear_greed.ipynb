{
 "cells": [
  {
   "cell_type": "code",
   "execution_count": 0,
   "metadata": {
    "application/vnd.databricks.v1+cell": {
     "cellMetadata": {
      "byteLimit": 2048000,
      "rowLimit": 10000
     },
     "inputWidgets": {},
     "nuid": "1d5348bb-3187-450d-84a0-e2185a45d5d4",
     "showTitle": false,
     "tableResultSettingsMap": {},
     "title": ""
    }
   },
   "outputs": [],
   "source": [
    "# Databricks Notebook: Silver -> Gold (FNG unified one-table)\n",
    "from pyspark.sql import functions as F, Window\n",
    "\n",
    "spark.sql(\"SET spark.sql.session.timeZone=UTC\")\n",
    "\n",
    "CATALOG = \"demo_catalog\"\n",
    "SCHEMA  = \"demo_schema\"\n",
    "SILVER  = f\"{CATALOG}.{SCHEMA}.silver_fear_greed\"\n",
    "GOLD    = f\"{CATALOG}.{SCHEMA}.gold_fear_greed\"   # 단일 Gold\n",
    "\n",
    "spark.sql(f\"\"\"\n",
    "CREATE TABLE IF NOT EXISTS {GOLD} (\n",
    "  ts_utc       TIMESTAMP,   -- event_time\n",
    "  dt           DATE,\n",
    "  value        INT,\n",
    "  value_class  STRING,\n",
    "  ma7          DOUBLE,\n",
    "  ma30         DOUBLE,\n",
    "  z30          DOUBLE,\n",
    "  d1_change    INT,\n",
    "  d7_change    INT,\n",
    "  streak_days  INT          -- 해당 날짜 기준 연속일수\n",
    ") USING DELTA\n",
    "PARTITIONED BY (dt)\n",
    "\"\"\")\n",
    "\n",
    "s = (spark.table(SILVER)\n",
    "        .select(\n",
    "            F.col(\"event_time\").alias(\"ts_utc\"),\n",
    "            F.col(\"dt\"),\n",
    "            F.col(\"index_value\").alias(\"value\"),\n",
    "            F.col(\"value_classification\").alias(\"value_class\")\n",
    "        ))\n",
    "\n",
    "# 롤링 윈도우(시간 오름차순)\n",
    "w_asc  = Window.orderBy(\"ts_utc\").rowsBetween(Window.unboundedPreceding, Window.currentRow)\n",
    "w7     = Window.orderBy(\"ts_utc\").rowsBetween(-6, 0)\n",
    "w30    = Window.orderBy(\"ts_utc\").rowsBetween(-29, 0)\n",
    "\n",
    "g = (s\n",
    "    # 이동평균 / z-score\n",
    "    .withColumn(\"ma7\",  F.avg(\"value\").over(w7))\n",
    "    .withColumn(\"ma30\", F.avg(\"value\").over(w30))\n",
    "    .withColumn(\"std30\",F.stddev_samp(\"value\").over(w30))\n",
    "    .withColumn(\"z30\",  F.when(F.col(\"std30\").isNull() | (F.col(\"std30\")==0), F.lit(None).cast(\"double\"))\n",
    "                         .otherwise((F.col(\"value\")-F.col(\"ma30\"))/F.col(\"std30\")))\n",
    "    .drop(\"std30\")\n",
    "    # 변화량(전일/7일 전)\n",
    "    .withColumn(\"d1_change\", (F.col(\"value\") - F.lag(\"value\", 1).over(Window.orderBy(\"ts_utc\"))).cast(\"int\"))\n",
    "    .withColumn(\"d7_change\", (F.col(\"value\") - F.lag(\"value\", 7).over(Window.orderBy(\"ts_utc\"))).cast(\"int\"))\n",
    "    # streak 계산: 동일 등급 지속일수\n",
    "    .withColumn(\"lag_class\", F.lag(\"value_class\", 1).over(Window.orderBy(\"ts_utc\")))\n",
    "    .withColumn(\"chg_flag\",  F.when(F.col(\"value_class\")==F.col(\"lag_class\"), F.lit(0)).otherwise(F.lit(1)))\n",
    "    .withColumn(\"grp\",       F.sum(\"chg_flag\").over(w_asc))\n",
    "    .withColumn(\"streak_days\", F.row_number().over(Window.partitionBy(\"grp\").orderBy(\"ts_utc\")))\n",
    "    .select(\"ts_utc\",\"dt\",\"value\",\"value_class\",\"ma7\",\"ma30\",\"z30\",\"d1_change\",\"d7_change\",\"streak_days\")\n",
    ")\n",
    "\n",
    "# 단일 Gold 갱신(전체 덮어쓰기)\n",
    "g.write.mode(\"overwrite\").option(\"mergeSchema\",\"true\").saveAsTable(GOLD)\n",
    "print(f\"[FNG GOLD] refreshed -> {GOLD}\")\n"
   ]
  }
 ],
 "metadata": {
  "application/vnd.databricks.v1+notebook": {
   "computePreferences": null,
   "dashboards": [],
   "environmentMetadata": {
    "base_environment": "",
    "environment_version": "3"
   },
   "inputWidgetPreferences": null,
   "language": "python",
   "notebookMetadata": {
    "pythonIndentUnit": 4
   },
   "notebookName": "03c_gold_fear_greed",
   "widgets": {}
  },
  "language_info": {
   "name": "python"
  }
 },
 "nbformat": 4,
 "nbformat_minor": 0
}
