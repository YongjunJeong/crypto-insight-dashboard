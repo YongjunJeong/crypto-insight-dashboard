{
 "cells": [
  {
   "cell_type": "code",
   "execution_count": 0,
   "metadata": {
    "application/vnd.databricks.v1+cell": {
     "cellMetadata": {
      "byteLimit": 2048000,
      "rowLimit": 10000
     },
     "inputWidgets": {},
     "nuid": "1d5348bb-3187-450d-84a0-e2185a45d5d4",
     "showTitle": false,
     "tableResultSettingsMap": {},
     "title": ""
    }
   },
   "outputs": [],
   "source": [
    "# Databricks Notebook: Gold Summary for Dashboard Boxes\n",
    "from pyspark.sql import functions as F\n",
    "from pyspark.sql.window import Window\n",
    "\n",
    "# ========== 설정 ==========\n",
    "CATALOG  = \"demo_catalog\"\n",
    "SCHEMA   = \"demo_schema\"\n",
    "GOLD_15  = f\"{CATALOG}.{SCHEMA}.gold_prices_15m\"\n",
    "GOLD_4H  = f\"{CATALOG}.{SCHEMA}.gold_prices_4h\"\n",
    "FNG_SLV  = f\"{CATALOG}.{SCHEMA}.silver_fear_greed\"\n",
    "SUMMARY  = f\"{CATALOG}.{SCHEMA}.gold_dashboard_summary\"\n",
    "\n",
    "# ========== 요약 테이블 ==========\n",
    "spark.sql(f\"\"\"\n",
    "CREATE TABLE IF NOT EXISTS {SUMMARY} (\n",
    "  symbol          STRING,\n",
    "  latest_price    DOUBLE,\n",
    "  change_24h_pct  DOUBLE,\n",
    "  cross_signal_4h STRING,\n",
    "  fgi_value       INT,\n",
    "  fgi_class       STRING,\n",
    "  updated_at      TIMESTAMP\n",
    ") USING DELTA\n",
    "\"\"\")\n",
    "\n",
    "# 최신 15m (심볼별 가장 최근)\n",
    "g15 = spark.table(GOLD_15).select(\"symbol\",\"open_time\",\"close\",\"pct_change_24h\")\n",
    "w15 = Window.partitionBy(\"symbol\").orderBy(F.col(\"open_time\").desc())\n",
    "latest_15 = (\n",
    "  g15.withColumn(\"rn\", F.row_number().over(w15))\n",
    "     .where(\"rn = 1\")\n",
    "     .select(\n",
    "        F.col(\"symbol\"),\n",
    "        F.col(\"close\").alias(\"latest_price\"),\n",
    "        F.col(\"pct_change_24h\").alias(\"change_24h_pct\")\n",
    "     )\n",
    ")\n",
    "\n",
    "# 최신 4h cross\n",
    "g4 = spark.table(GOLD_4H).select(\"symbol\",\"bucket_start\",\"cross_signal\")\n",
    "w4 = Window.partitionBy(\"symbol\").orderBy(F.col(\"bucket_start\").desc())\n",
    "latest_4h = (\n",
    "  g4.withColumn(\"rn\", F.row_number().over(w4))\n",
    "     .where(\"rn = 1\")\n",
    "     .select(F.col(\"symbol\").alias(\"sym4\"), F.col(\"cross_signal\").alias(\"cross_signal_4h\"))\n",
    ")\n",
    "\n",
    "# 최신 F&G (전역 지표이므로 전체 중 1행만 최신)\n",
    "fng = spark.table(FNG_SLV).select(\"event_time\",\"index_value\",\"value_classification\")\n",
    "fng_latest = (\n",
    "  fng.orderBy(F.col(\"event_time\").desc()).limit(1)\n",
    "     .withColumnRenamed(\"index_value\",\"fgi_value\")\n",
    "     .withColumnRenamed(\"value_classification\",\"fgi_class\")\n",
    "     .withColumn(\"dummy\", F.lit(1))\n",
    ")\n",
    "\n",
    "# 심볼 목록에 F&G 최신(1행)을 cross join 해서 모두에 부여\n",
    "symbols_df = latest_15.select(\"symbol\").distinct().withColumn(\"dummy\", F.lit(1))\n",
    "summary_df = (\n",
    "  latest_15\n",
    "    .join(latest_4h, latest_15.symbol == latest_4h.sym4, \"left\")\n",
    "    .drop(\"sym4\")\n",
    "    .join(symbols_df, \"symbol\", \"left\")\n",
    "    .join(fng_latest, \"dummy\", \"left\")\n",
    "    .drop(\"dummy\")\n",
    "    .withColumn(\"updated_at\", F.current_timestamp())\n",
    "    .select(\"symbol\",\"latest_price\",\"change_24h_pct\",\"cross_signal_4h\",\"fgi_value\",\"fgi_class\",\"updated_at\")\n",
    ")\n",
    "\n",
    "# 간단히 덮어쓰기(요약이라 전체 새로 고침이 편함)\n",
    "summary_df.write.mode(\"overwrite\").saveAsTable(SUMMARY)\n",
    "\n",
    "print(f\"[SUMMARY] refreshed: {SUMMARY}\")\n"
   ]
  }
 ],
 "metadata": {
  "application/vnd.databricks.v1+notebook": {
   "computePreferences": null,
   "dashboards": [],
   "environmentMetadata": {
    "base_environment": "",
    "environment_version": "3"
   },
   "inputWidgetPreferences": null,
   "language": "python",
   "notebookMetadata": {
    "pythonIndentUnit": 4
   },
   "notebookName": "03c_gold_fear_greed",
   "widgets": {}
  },
  "language_info": {
   "name": "python"
  }
 },
 "nbformat": 4,
 "nbformat_minor": 0
}
