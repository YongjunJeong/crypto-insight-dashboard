{
 "cells": [
  {
   "cell_type": "code",
   "execution_count": 0,
   "metadata": {
    "application/vnd.databricks.v1+cell": {
     "cellMetadata": {
      "byteLimit": 2048000,
      "rowLimit": 10000
     },
     "inputWidgets": {},
     "nuid": "cbda04ec-36df-4bca-ba32-dfb7a11e6086",
     "showTitle": false,
     "tableResultSettingsMap": {},
     "title": ""
    }
   },
   "outputs": [],
   "source": [
    "# Databricks Notebook: Transform Bronze (FNG) -> Silver (fixed w/ ts_unix)\n",
    "from pyspark.sql import functions as F\n",
    "from delta.tables import DeltaTable\n",
    "\n",
    "spark.sql(\"SET spark.sql.session.timeZone=UTC\")\n",
    "spark.conf.set(\"spark.databricks.delta.schema.autoMerge.enabled\", \"true\")\n",
    "\n",
    "CATALOG = \"demo_catalog\"\n",
    "SCHEMA  = \"demo_schema\"\n",
    "BRONZE  = f\"{CATALOG}.{SCHEMA}.bronze_fear_greed\"\n",
    "SILVER  = f\"{CATALOG}.{SCHEMA}.silver_fear_greed\"\n",
    "\n",
    "# Silver 스키마(호환용으로 ts_unix 포함)\n",
    "spark.sql(f\"\"\"\n",
    "CREATE TABLE IF NOT EXISTS {SILVER} (\n",
    "  ts_unix              BIGINT,      -- event_time(초) 파생\n",
    "  event_time           TIMESTAMP,   -- 원본 UTC 시각\n",
    "  dt                   DATE,        -- 파티션\n",
    "  index_value          INT,         -- 0~100\n",
    "  value_classification STRING,      -- \"Extreme Fear\" ~ \"Extreme Greed\"\n",
    "  time_until_update    STRING,      -- API 텍스트\n",
    "  unique_key           STRING       -- 'fear_greed|<unix_ts>'\n",
    ") USING DELTA\n",
    "PARTITIONED BY (dt)\n",
    "\"\"\")\n",
    "\n",
    "src = spark.table(BRONZE)\n",
    "\n",
    "silver_df = (\n",
    "  src.select(\n",
    "      F.col(\"event_time\").cast(\"timestamp\").alias(\"event_time\"),\n",
    "      F.col(\"dt\").cast(\"date\").alias(\"dt\"),\n",
    "      F.col(\"index_value\").cast(\"int\").alias(\"index_value\"),\n",
    "      F.col(\"value_classification\").alias(\"value_classification\"),\n",
    "      F.col(\"time_until_update\").alias(\"time_until_update\"),\n",
    "      F.col(\"unique_key\").alias(\"unique_key\")\n",
    "  )\n",
    "  .withColumn(\"ts_unix\", F.unix_timestamp(\"event_time\").cast(\"long\"))\n",
    "  .dropDuplicates([\"unique_key\"])\n",
    "  .repartition(\"dt\")\n",
    ")\n",
    "\n",
    "t = DeltaTable.forName(spark, SILVER)\n",
    "# updateAll을 써도 s에 ts_unix가 있으므로 안전\n",
    "(t.alias(\"t\")\n",
    " .merge(silver_df.alias(\"s\"), \"t.unique_key = s.unique_key AND t.dt = s.dt\")\n",
    " .whenMatchedUpdateAll()\n",
    " .whenNotMatchedInsertAll()\n",
    " .execute())\n",
    "\n",
    "print(f\"[FNG SILVER] upsert complete -> {SILVER}\")\n"
   ]
  }
 ],
 "metadata": {
  "application/vnd.databricks.v1+notebook": {
   "computePreferences": null,
   "dashboards": [],
   "environmentMetadata": {
    "base_environment": "",
    "environment_version": "3"
   },
   "inputWidgetPreferences": null,
   "language": "python",
   "notebookMetadata": {
    "pythonIndentUnit": 4
   },
   "notebookName": "02b_transform_silver_fear_greed.py",
   "widgets": {}
  },
  "language_info": {
   "name": "python"
  }
 },
 "nbformat": 4,
 "nbformat_minor": 0
}
