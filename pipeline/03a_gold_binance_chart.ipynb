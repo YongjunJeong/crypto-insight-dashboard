{
 "cells": [
  {
   "cell_type": "code",
   "execution_count": 0,
   "metadata": {
    "application/vnd.databricks.v1+cell": {
     "cellMetadata": {
      "byteLimit": 2048000,
      "rowLimit": 10000
     },
     "inputWidgets": {},
     "nuid": "25375171-727d-40d2-9c82-040f7b6805d8",
     "showTitle": false,
     "tableResultSettingsMap": {},
     "title": ""
    }
   },
   "outputs": [],
   "source": [
    "# Databricks Notebook: Silver -> Gold (4h MA & Cross + 24h change, no close_time)\n",
    "from pyspark.sql import functions as F\n",
    "from pyspark.sql.window import Window\n",
    "\n",
    "# ===== 설정 =====\n",
    "CATALOG = \"demo_catalog\"\n",
    "SCHEMA  = \"demo_schema\"\n",
    "SILVER  = f\"{CATALOG}.{SCHEMA}.silver_charts\"   # 4h 캔들만 사용\n",
    "GOLD_4H = f\"{CATALOG}.{SCHEMA}.gold_prices_4h\"\n",
    "DAYS_BACK = 200  # MA200 안정화용\n",
    "\n",
    "spark.sql(\"SET spark.sql.session.timeZone=UTC\")\n",
    "\n",
    "# ===== 타깃 테이블 생성 =====\n",
    "spark.sql(f\"\"\"\n",
    "CREATE TABLE IF NOT EXISTS {GOLD_4H} (\n",
    "  symbol         STRING,\n",
    "  bucket_start   TIMESTAMP,   -- 4h open_time\n",
    "  close_4h       DOUBLE,\n",
    "  ma50_4h        DOUBLE,\n",
    "  ma200_4h       DOUBLE,\n",
    "  cross_signal   STRING,      -- Golden Cross / Dead Cross / Neutral\n",
    "  pct_change_24h DOUBLE,      -- 24시간 전 대비 %\n",
    "  dt             DATE\n",
    ") USING DELTA\n",
    "PARTITIONED BY (dt)\n",
    "\"\"\")\n",
    "\n",
    "# ===== 소스 로드(4h만) =====\n",
    "src = (\n",
    "  spark.table(SILVER)\n",
    "       .where(\"interval = '4h'\")\n",
    "       .where(f\"dt >= date_sub(current_date(), {DAYS_BACK})\")\n",
    "       .select(\n",
    "         \"symbol\",\n",
    "         F.col(\"open_time\").alias(\"bucket_start\"),\n",
    "         F.col(\"close\").alias(\"close_4h\"),\n",
    "         \"dt\"\n",
    "       )\n",
    ")\n",
    "\n",
    "# ===== 이동평균/24h 변화율 계산 =====\n",
    "w = Window.partitionBy(\"symbol\").orderBy(\"bucket_start\")\n",
    "w50   = w.rowsBetween(-49, 0)\n",
    "w200  = w.rowsBetween(-199, 0)\n",
    "\n",
    "gold_df = (\n",
    "  src\n",
    "    .withColumn(\"ma50_4h\",  F.avg(\"close_4h\").over(w50))\n",
    "    .withColumn(\"ma200_4h\", F.avg(\"close_4h\").over(w200))\n",
    "    .withColumn(\n",
    "        \"cross_signal\",\n",
    "        F.when(F.col(\"ma50_4h\") > F.col(\"ma200_4h\"), F.lit(\"Golden Cross\"))\n",
    "         .when(F.col(\"ma50_4h\") < F.col(\"ma200_4h\"), F.lit(\"Dead Cross\"))\n",
    "         .otherwise(F.lit(\"Neutral\"))\n",
    "    )\n",
    "    .withColumn(\"close_24h_ago\", F.lag(\"close_4h\", 6).over(w))  # 6개 바 = 24시간\n",
    "    .withColumn(\n",
    "        \"pct_change_24h\",\n",
    "        F.when(F.col(\"close_24h_ago\").isNull(), F.lit(None).cast(\"double\"))\n",
    "         .otherwise((F.col(\"close_4h\") - F.col(\"close_24h_ago\")) / F.col(\"close_24h_ago\") * 100.0)\n",
    "    )\n",
    "    .select(\"symbol\",\"bucket_start\",\"close_4h\",\n",
    "            \"ma50_4h\",\"ma200_4h\",\"cross_signal\",\"pct_change_24h\",\"dt\")\n",
    ")\n",
    "\n",
    "# ===== MERGE =====\n",
    "gold_df.createOrReplaceTempView(\"gold4h_upserts\")\n",
    "spark.sql(f\"\"\"\n",
    "MERGE INTO {GOLD_4H} AS t\n",
    "USING gold4h_upserts AS s\n",
    "ON  t.symbol = s.symbol AND t.bucket_start = s.bucket_start\n",
    "WHEN MATCHED THEN UPDATE SET\n",
    "  t.close_4h       = s.close_4h,\n",
    "  t.ma50_4h        = s.ma50_4h,\n",
    "  t.ma200_4h       = s.ma200_4h,\n",
    "  t.cross_signal   = s.cross_signal,\n",
    "  t.pct_change_24h = s.pct_change_24h,\n",
    "  t.dt             = s.dt\n",
    "WHEN NOT MATCHED THEN INSERT *\n",
    "\"\"\")\n",
    "\n",
    "print(f\"[GOLD_4H] upsert complete: {GOLD_4H}\")\n"
   ]
  }
 ],
 "metadata": {
  "application/vnd.databricks.v1+notebook": {
   "computePreferences": null,
   "dashboards": [],
   "environmentMetadata": {
    "base_environment": "",
    "environment_version": "3"
   },
   "inputWidgetPreferences": null,
   "language": "python",
   "notebookMetadata": {
    "pythonIndentUnit": 4
   },
   "notebookName": "03a_gold_binance_chart",
   "widgets": {}
  },
  "language_info": {
   "name": "python"
  }
 },
 "nbformat": 4,
 "nbformat_minor": 0
}
