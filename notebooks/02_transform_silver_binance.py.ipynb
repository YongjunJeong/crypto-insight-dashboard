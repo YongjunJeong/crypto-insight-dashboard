{
 "cells": [
  {
   "cell_type": "code",
   "execution_count": 0,
   "metadata": {
    "application/vnd.databricks.v1+cell": {
     "cellMetadata": {
      "byteLimit": 2048000,
      "rowLimit": 10000
     },
     "inputWidgets": {},
     "nuid": "7ff950b7-e9b1-4509-b372-8df5a5b476f3",
     "showTitle": false,
     "tableResultSettingsMap": {},
     "title": ""
    }
   },
   "outputs": [],
   "source": [
    "# Silver (NO WIDGETS) - JSON 배열 파싱 버전\n",
    "from pyspark.sql.functions import col, from_json, split\n",
    "from pyspark.sql.types import ArrayType, StringType\n",
    "\n",
    "CATALOG = \"demo_catalog\"\n",
    "SCHEMA  = \"demo_schema\"\n",
    "BRONZE  = f\"{CATALOG}.{SCHEMA}.bronze_charts\"\n",
    "SILVER  = f\"{CATALOG}.{SCHEMA}.silver_charts\"\n",
    "\n",
    "spark.sql(f\"\"\"\n",
    "CREATE TABLE IF NOT EXISTS {SILVER} (\n",
    "  symbol       STRING,\n",
    "  interval     STRING,\n",
    "  open_time    TIMESTAMP,\n",
    "  open         DOUBLE,\n",
    "  high         DOUBLE,\n",
    "  low          DOUBLE,\n",
    "  close        DOUBLE,\n",
    "  volume       DOUBLE,\n",
    "  unique_key   STRING,\n",
    "  event_time   TIMESTAMP,\n",
    "  dt           DATE\n",
    ") USING DELTA\n",
    "PARTITIONED BY (dt)\n",
    "\"\"\")\n",
    "\n",
    "bronze = spark.table(BRONZE)\n",
    "\n",
    "# 1) raw_json을 \"배열\"로 파싱\n",
    "arr = from_json(col(\"raw_json\"), ArrayType(StringType()))\n",
    "\n",
    "# 2) unique_key: \"symbol|interval|open_ms\"\n",
    "uk = split(col(\"unique_key\"), \"\\\\|\")\n",
    "\n",
    "silver = (bronze\n",
    "  .withColumn(\"symbol\",   uk.getItem(0))\n",
    "  .withColumn(\"interval\", uk.getItem(1))\n",
    "  .withColumn(\"open_time\",  (arr.getItem(0).cast(\"long\")/1000).cast(\"timestamp\"))\n",
    "  .withColumn(\"open\",   arr.getItem(1).cast(\"double\"))\n",
    "  .withColumn(\"high\",   arr.getItem(2).cast(\"double\"))\n",
    "  .withColumn(\"low\",    arr.getItem(3).cast(\"double\"))\n",
    "  .withColumn(\"close\",  arr.getItem(4).cast(\"double\"))\n",
    "  .withColumn(\"volume\", arr.getItem(5).cast(\"double\"))\n",
    "  .withColumn(\"dt\", col(\"event_time\").cast(\"date\"))\n",
    "  .select(\"symbol\",\"interval\",\"open_time\",\"open\",\"high\",\"low\",\"close\",\"volume\",\n",
    "          \"unique_key\",\"event_time\",\"dt\")\n",
    "  .dropDuplicates([\"unique_key\"])\n",
    ")\n",
    "\n",
    "(silver.write\n",
    "  .format(\"delta\")\n",
    "  .mode(\"append\")\n",
    "  .saveAsTable(SILVER))\n",
    "\n",
    "print(f\"Silver transform (array parser) complete: wrote to {SILVER}\")\n"
   ]
  },
  {
   "cell_type": "code",
   "execution_count": 0,
   "metadata": {
    "application/vnd.databricks.v1+cell": {
     "cellMetadata": {
      "byteLimit": 2048000,
      "implicitDf": true,
      "rowLimit": 10000
     },
     "inputWidgets": {},
     "nuid": "e57d3ee0-11b9-4c22-a03d-0c4490436b8e",
     "showTitle": false,
     "tableResultSettingsMap": {},
     "title": ""
    }
   },
   "outputs": [],
   "source": [
    "%sql\n",
    "select * FROM demo_catalog.demo_schema.silver_charts"
   ]
  }
 ],
 "metadata": {
  "application/vnd.databricks.v1+notebook": {
   "computePreferences": null,
   "dashboards": [],
   "environmentMetadata": {
    "base_environment": "",
    "environment_version": "3"
   },
   "inputWidgetPreferences": null,
   "language": "python",
   "notebookMetadata": {
    "mostRecentlyExecutedCommandWithImplicitDF": {
     "commandId": 7595998494622695,
     "dataframes": [
      "_sqldf"
     ]
    },
    "pythonIndentUnit": 4,
    "widgetLayout": []
   },
   "notebookName": "02_transform_silver_binance.py",
   "widgets": {
    "CATALOG": {
     "currentValue": "demo_catalog",
     "nuid": "08fc5d53-d024-4fc0-b0ca-0d57c1a807c2",
     "typedWidgetInfo": {
      "autoCreated": false,
      "defaultValue": "demo_catalog",
      "label": null,
      "name": "CATALOG",
      "options": {
       "widgetDisplayType": "Text",
       "validationRegex": null
      },
      "parameterDataType": "String"
     },
     "widgetInfo": {
      "widgetType": "text",
      "defaultValue": "demo_catalog",
      "label": null,
      "name": "CATALOG",
      "options": {
       "widgetType": "text",
       "autoCreated": null,
       "validationRegex": null
      }
     }
    },
    "SCHEMA": {
     "currentValue": "demo_schema",
     "nuid": "98c2b553-3ba8-46eb-bf7d-ee2a54e150c3",
     "typedWidgetInfo": {
      "autoCreated": false,
      "defaultValue": "demo_schema",
      "label": "",
      "name": "SCHEMA",
      "options": {
       "widgetDisplayType": "Text",
       "validationRegex": null
      },
      "parameterDataType": "String"
     },
     "widgetInfo": {
      "widgetType": "text",
      "defaultValue": "demo_schema",
      "label": "",
      "name": "SCHEMA",
      "options": {
       "widgetType": "text",
       "autoCreated": false,
       "validationRegex": null
      }
     }
    }
   }
  },
  "language_info": {
   "name": "python"
  }
 },
 "nbformat": 4,
 "nbformat_minor": 0
}
