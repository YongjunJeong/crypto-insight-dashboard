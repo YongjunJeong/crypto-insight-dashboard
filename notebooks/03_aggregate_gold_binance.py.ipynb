{
 "cells": [
  {
   "cell_type": "code",
   "execution_count": 0,
   "metadata": {
    "application/vnd.databricks.v1+cell": {
     "cellMetadata": {
      "byteLimit": 2048000,
      "rowLimit": 10000
     },
     "inputWidgets": {},
     "nuid": "9e3bca88-d99e-44d9-8bba-ea29ef1e7dd4",
     "showTitle": false,
     "tableResultSettingsMap": {},
     "title": ""
    }
   },
   "outputs": [],
   "source": [
    "# Gold (NO WIDGETS) - first write without lookback filter\n",
    "from pyspark.sql.functions import col, window, avg\n",
    "\n",
    "CATALOG = \"demo_catalog\"\n",
    "SCHEMA  = \"demo_schema\"\n",
    "SILVER  = f\"{CATALOG}.{SCHEMA}.silver_charts\"\n",
    "GOLD    = f\"{CATALOG}.{SCHEMA}.gold_signals\"\n",
    "\n",
    "WINDOW_SPEC = \"5 minutes\"\n",
    "\n",
    "spark.sql(f\"\"\"\n",
    "CREATE TABLE IF NOT EXISTS {GOLD} (\n",
    "  bucket_start TIMESTAMP,\n",
    "  bucket_end   TIMESTAMP,\n",
    "  symbol       STRING,\n",
    "  avg_price    DOUBLE,\n",
    "  latest_signal STRING\n",
    ") USING DELTA\n",
    "\"\"\")\n",
    "\n",
    "silver = spark.table(SILVER).where(\"open_time IS NOT NULL\")\n",
    "\n",
    "agg_df = (\n",
    "    silver\n",
    "    .groupBy(window(col(\"open_time\"), WINDOW_SPEC), col(\"symbol\"))\n",
    "    .agg(avg(col(\"close\")).alias(\"avg_price\"))\n",
    "    .select(\n",
    "        col(\"window.start\").alias(\"bucket_start\"),\n",
    "        col(\"window.end\").alias(\"bucket_end\"),\n",
    "        col(\"symbol\"),\n",
    "        col(\"avg_price\")\n",
    "    )\n",
    "    .withColumn(\"latest_signal\", col(\"avg_price\")*0 - col(\"avg_price\")*0)  # NULL\n",
    ")\n",
    "\n",
    "# Upsert\n",
    "agg_df.createOrReplaceTempView(\"gold_upserts\")\n",
    "spark.sql(f\"\"\"\n",
    "MERGE INTO {GOLD} AS t\n",
    "USING gold_upserts AS s\n",
    "ON t.symbol = s.symbol AND t.bucket_start = s.bucket_start\n",
    "WHEN MATCHED THEN UPDATE SET\n",
    "  t.bucket_end    = s.bucket_end,\n",
    "  t.avg_price     = s.avg_price,\n",
    "  t.latest_signal = s.latest_signal\n",
    "WHEN NOT MATCHED THEN INSERT *\n",
    "\"\"\")\n",
    "\n",
    "print(\"Gold aggregate complete\")\n"
   ]
  },
  {
   "cell_type": "code",
   "execution_count": 0,
   "metadata": {
    "application/vnd.databricks.v1+cell": {
     "cellMetadata": {
      "byteLimit": 2048000,
      "implicitDf": true,
      "rowLimit": 10000
     },
     "inputWidgets": {},
     "nuid": "2959b744-ed34-4359-80af-456547d604f5",
     "showTitle": false,
     "tableResultSettingsMap": {},
     "title": ""
    }
   },
   "outputs": [],
   "source": [
    "%sql\n",
    "SELECT count(*) FROM demo_catalog.demo_schema.gold_signals;\n",
    "SELECT * FROM demo_catalog.demo_schema.gold_signals\n",
    "ORDER BY bucket_start DESC, symbol\n",
    "LIMIT 50;\n"
   ]
  }
 ],
 "metadata": {
  "application/vnd.databricks.v1+notebook": {
   "computePreferences": null,
   "dashboards": [],
   "environmentMetadata": {
    "base_environment": "",
    "environment_version": "3"
   },
   "inputWidgetPreferences": null,
   "language": "python",
   "notebookMetadata": {
    "mostRecentlyExecutedCommandWithImplicitDF": {
     "commandId": 7595998494622694,
     "dataframes": [
      "_sqldf"
     ]
    },
    "pythonIndentUnit": 4
   },
   "notebookName": "03_aggregate_gold_binance.py",
   "widgets": {
    "CATALOG": {
     "currentValue": "demo_catalog",
     "nuid": "d1ae86ec-ed10-4051-bab5-fc53a3087f36",
     "typedWidgetInfo": {
      "autoCreated": false,
      "defaultValue": "demo_catalog",
      "label": null,
      "name": "CATALOG",
      "options": {
       "widgetDisplayType": "Text",
       "validationRegex": null
      },
      "parameterDataType": "String"
     },
     "widgetInfo": {
      "widgetType": "text",
      "defaultValue": "demo_catalog",
      "label": null,
      "name": "CATALOG",
      "options": {
       "widgetType": "text",
       "autoCreated": false,
       "validationRegex": null
      }
     }
    },
    "LOOKBACK_HOURS": {
     "currentValue": "48",
     "nuid": "71b54f48-4ad5-478a-8b11-5faeab735cc7",
     "typedWidgetInfo": {
      "autoCreated": false,
      "defaultValue": "48",
      "label": null,
      "name": "LOOKBACK_HOURS",
      "options": {
       "widgetDisplayType": "Text",
       "validationRegex": null
      },
      "parameterDataType": "String"
     },
     "widgetInfo": {
      "widgetType": "text",
      "defaultValue": "48",
      "label": null,
      "name": "LOOKBACK_HOURS",
      "options": {
       "widgetType": "text",
       "autoCreated": false,
       "validationRegex": null
      }
     }
    },
    "SCHEMA": {
     "currentValue": "demo_schema",
     "nuid": "9172287f-31d1-4c19-baf3-04ec3194dded",
     "typedWidgetInfo": {
      "autoCreated": false,
      "defaultValue": "demo_schema",
      "label": null,
      "name": "SCHEMA",
      "options": {
       "widgetDisplayType": "Text",
       "validationRegex": null
      },
      "parameterDataType": "String"
     },
     "widgetInfo": {
      "widgetType": "text",
      "defaultValue": "demo_schema",
      "label": null,
      "name": "SCHEMA",
      "options": {
       "widgetType": "text",
       "autoCreated": false,
       "validationRegex": null
      }
     }
    },
    "WINDOW": {
     "currentValue": "1 hour",
     "nuid": "9a3ab967-15d7-4692-859d-93357532e002",
     "typedWidgetInfo": {
      "autoCreated": false,
      "defaultValue": "1 hour",
      "label": null,
      "name": "WINDOW",
      "options": {
       "widgetDisplayType": "Dropdown",
       "choices": [
        "1 hour",
        "5 minutes",
        "15 minutes",
        "30 minutes",
        "4 hours",
        "1 day"
       ],
       "fixedDomain": true,
       "multiselect": false
      },
      "parameterDataType": "String"
     },
     "widgetInfo": {
      "widgetType": "dropdown",
      "defaultValue": "1 hour",
      "label": null,
      "name": "WINDOW",
      "options": {
       "widgetType": "dropdown",
       "autoCreated": false,
       "choices": [
        "1 hour",
        "5 minutes",
        "15 minutes",
        "30 minutes",
        "4 hours",
        "1 day"
       ]
      }
     }
    }
   }
  },
  "language_info": {
   "name": "python"
  }
 },
 "nbformat": 4,
 "nbformat_minor": 0
}
